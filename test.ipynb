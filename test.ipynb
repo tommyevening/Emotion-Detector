{
 "cells": [
  {
   "metadata": {},
   "cell_type": "markdown",
   "source": [
    "Random values\n",
    "\n",
    "\n"
   ],
   "id": "9cec7dae46e0c1ea"
  },
  {
   "metadata": {
    "ExecuteTime": {
     "end_time": "2025-04-26T04:31:11.544306Z",
     "start_time": "2025-04-26T04:31:11.537503Z"
    }
   },
   "cell_type": "code",
   "source": [
    "\n",
    "import torch\n",
    "import numpy\n",
    "from sympy.codegen.ast import float128\n",
    "\n",
    "print(\"hello world\")\n",
    "x = torch.rand(5,3)\n",
    "print(f\"torch rand: {x}\")"
   ],
   "id": "519427312f49e372",
   "outputs": [
    {
     "name": "stdout",
     "output_type": "stream",
     "text": [
      "hello world\n",
      "torch rand: tensor([[0.3298, 0.2070, 0.4165],\n",
      "        [0.7053, 0.9473, 0.9123],\n",
      "        [0.5932, 0.9072, 0.6709],\n",
      "        [0.0867, 0.3125, 0.8146],\n",
      "        [0.6255, 0.9152, 0.5632]])\n"
     ]
    }
   ],
   "execution_count": 8
  },
  {
   "metadata": {},
   "cell_type": "markdown",
   "source": "ZEROS",
   "id": "a9124cbe6ceea4cd"
  },
  {
   "metadata": {
    "ExecuteTime": {
     "end_time": "2025-04-26T04:29:38.864894Z",
     "start_time": "2025-04-26T04:29:38.854305Z"
    }
   },
   "cell_type": "code",
   "source": [
    "x = torch.zeros(5,3)\n",
    "print(f\"torch zeros: {x}\")"
   ],
   "id": "7d843c182564b25d",
   "outputs": [
    {
     "name": "stdout",
     "output_type": "stream",
     "text": [
      "torch zeros: tensor([[0., 0., 0.],\n",
      "        [0., 0., 0.],\n",
      "        [0., 0., 0.],\n",
      "        [0., 0., 0.],\n",
      "        [0., 0., 0.]])\n"
     ]
    }
   ],
   "execution_count": 7
  },
  {
   "metadata": {},
   "cell_type": "markdown",
   "source": [
    "\n",
    "\n",
    "\n",
    "Check size"
   ],
   "id": "c63e1eb3dcc33ce2"
  },
  {
   "metadata": {
    "ExecuteTime": {
     "end_time": "2025-04-26T04:35:07.942693Z",
     "start_time": "2025-04-26T04:35:07.931842Z"
    }
   },
   "cell_type": "code",
   "source": [
    "print(f\"size: {torch.rand(2,3).size()}\")  #metoda\n",
    "print(f\"shape: {torch.zeros(5,2).shape}\") #atrybut"
   ],
   "id": "38da7f61f0e0f0c7",
   "outputs": [
    {
     "name": "stdout",
     "output_type": "stream",
     "text": [
      "size: torch.Size([2, 3])\n",
      "shape: torch.Size([5, 2])\n"
     ]
    }
   ],
   "execution_count": 12
  },
  {
   "metadata": {},
   "cell_type": "markdown",
   "source": [
    "\n",
    "Check data type"
   ],
   "id": "7eba107a440f17cb"
  },
  {
   "metadata": {
    "ExecuteTime": {
     "end_time": "2025-04-26T04:40:17.691083Z",
     "start_time": "2025-04-26T04:40:17.685167Z"
    }
   },
   "cell_type": "code",
   "source": [
    "x = torch.rand(3,1)\n",
    "print(f\"Data type {x.dtype}\")\n",
    "\n",
    "x = torch.zeros(5,3, dtype= torch.float16)\n",
    "print(x)\n",
    "print(f\"Data type: {x.dtype}\")"
   ],
   "id": "5efa63498bc992df",
   "outputs": [
    {
     "name": "stdout",
     "output_type": "stream",
     "text": [
      "Data type torch.float32\n",
      "tensor([[0., 0., 0.],\n",
      "        [0., 0., 0.],\n",
      "        [0., 0., 0.],\n",
      "        [0., 0., 0.],\n",
      "        [0., 0., 0.]], dtype=torch.float16)\n",
      "Data type: torch.float16\n"
     ]
    }
   ],
   "execution_count": 16
  },
  {
   "metadata": {},
   "cell_type": "markdown",
   "source": [
    "\n",
    "\n",
    "\n",
    "\n",
    "\n",
    "Construct from data"
   ],
   "id": "769333e085cbf5f6"
  },
  {
   "metadata": {
    "ExecuteTime": {
     "end_time": "2025-04-26T04:42:36.690792Z",
     "start_time": "2025-04-26T04:42:36.674921Z"
    }
   },
   "cell_type": "code",
   "source": [
    "x = torch.tensor([5.5,3])\n",
    "print(f\"{x} {x.dtype}\")"
   ],
   "id": "f540c823990627c5",
   "outputs": [
    {
     "name": "stdout",
     "output_type": "stream",
     "text": [
      "tensor([5.5000, 3.0000]) torch.float32\n"
     ]
    }
   ],
   "execution_count": 17
  },
  {
   "metadata": {},
   "cell_type": "markdown",
   "source": [
    "requires_grad argument\n",
    "This will tell pyTorch that it will be needed to calculate thr gratients for this tensor"
   ],
   "id": "6bc2ebbc6c16611c"
  },
  {
   "metadata": {
    "ExecuteTime": {
     "end_time": "2025-04-26T04:47:28.275040Z",
     "start_time": "2025-04-26T04:47:28.268084Z"
    }
   },
   "cell_type": "code",
   "source": [
    "x = torch.tensor([4.5,3], requires_grad=True)\n",
    "print(x)\n",
    "print(x.requires_grad)"
   ],
   "id": "ffcd5d4c3ddb0ef8",
   "outputs": [
    {
     "name": "stdout",
     "output_type": "stream",
     "text": [
      "tensor([4.5000, 3.0000], requires_grad=True)\n",
      "True\n"
     ]
    }
   ],
   "execution_count": 22
  },
  {
   "metadata": {},
   "cell_type": "markdown",
   "source": "Operations with tensors",
   "id": "258f9f1bab29220e"
  },
  {
   "metadata": {
    "ExecuteTime": {
     "end_time": "2025-04-26T04:50:22.852725Z",
     "start_time": "2025-04-26T04:50:22.840837Z"
    }
   },
   "cell_type": "code",
   "source": [
    "x = torch.ones(2,2)\n",
    "y = torch.rand(2,2)\n",
    "\n",
    "print(x)\n",
    "print(y)\n",
    "\n",
    "#addition\n",
    "z = x + y\n",
    "print(z)\n",
    "#subtraction\n",
    "z = x - y\n",
    "print(z)\n",
    "#multiplication\n",
    "z = x * y\n",
    "print(z)\n",
    "\n"
   ],
   "id": "83bcfaeb4193552e",
   "outputs": [
    {
     "name": "stdout",
     "output_type": "stream",
     "text": [
      "tensor([[1., 1.],\n",
      "        [1., 1.]])\n",
      "tensor([[0.5976, 0.7648],\n",
      "        [0.4893, 0.8827]])\n",
      "tensor([[1.5976, 1.7648],\n",
      "        [1.4893, 1.8827]])\n",
      "tensor([[0.4024, 0.2352],\n",
      "        [0.5107, 0.1173]])\n",
      "tensor([[0.5976, 0.7648],\n",
      "        [0.4893, 0.8827]])\n"
     ]
    }
   ],
   "execution_count": 25
  },
  {
   "metadata": {},
   "cell_type": "markdown",
   "source": "Slicing",
   "id": "2b0635b25f1856c7"
  },
  {
   "metadata": {
    "ExecuteTime": {
     "end_time": "2025-04-26T05:57:10.448794Z",
     "start_time": "2025-04-26T05:57:10.429935Z"
    }
   },
   "cell_type": "code",
   "source": [
    "x = torch.rand(5,2)\n",
    "print(x)\n",
    "print(f\"x[:, 0], {x[:, 0]}\") # all rows column == 0\n",
    "print(f\"x[:, 1], {x[:, 1]}\") # all rows column == 1\n",
    "print(f\"x[1, 1], {x[1, 1]}\") # element at position (1, 1) | returns a tensor object (scalar tensor) at that position\n",
    "\n",
    "print(f\"x[1,1].item() {x[1,1].item()}\") # returns the Python value (float/int) at that position\n"
   ],
   "id": "1bc5babeae065ddc",
   "outputs": [
    {
     "name": "stdout",
     "output_type": "stream",
     "text": [
      "tensor([[0.9700, 0.1777],\n",
      "        [0.7729, 0.2997],\n",
      "        [0.8850, 0.8260],\n",
      "        [0.2906, 0.4037],\n",
      "        [0.5179, 0.9069]])\n",
      "x[:, 0], tensor([0.9700, 0.7729, 0.8850, 0.2906, 0.5179])\n",
      "x[:, 1], tensor([0.1777, 0.2997, 0.8260, 0.4037, 0.9069])\n",
      "x[1, 1], torch.float32\n",
      "x[1,1].item() 0.29970085620880127\n"
     ]
    }
   ],
   "execution_count": 31
  },
  {
   "metadata": {},
   "cell_type": "markdown",
   "source": "Reshape with torch.view()",
   "id": "74eb423c7e0702e4"
  },
  {
   "metadata": {
    "ExecuteTime": {
     "end_time": "2025-04-26T06:09:14.238767Z",
     "start_time": "2025-04-26T06:09:14.229706Z"
    }
   },
   "cell_type": "code",
   "source": [
    "2# nazwa tych struktur to sa ogolnie SHAPE\n",
    "\n",
    "x = torch.rand(4,4)\n",
    "print(x)\n",
    "print()\n",
    "y = x.view(16)\n",
    "print(y)\n",
    "print()\n",
    "\n",
    "z = x.view(-1, 4)   # -1 in PyTorch is a magic number that meas count by ur self\n",
    "print(z)\n",
    "print()\n",
    "\n",
    "print(x.size(), y.size(), z.size())\n"
   ],
   "id": "8b82e552fbda27ca",
   "outputs": [
    {
     "name": "stdout",
     "output_type": "stream",
     "text": [
      "tensor([[1.0345e-01, 4.5794e-01, 6.9606e-04, 2.4512e-01],\n",
      "        [5.0567e-01, 8.7240e-01, 7.2844e-01, 5.6316e-01],\n",
      "        [5.7201e-01, 4.0728e-01, 6.6007e-01, 9.8726e-02],\n",
      "        [3.2219e-01, 1.5198e-01, 3.1081e-02, 5.9530e-01]])\n",
      "\n",
      "tensor([1.0345e-01, 4.5794e-01, 6.9606e-04, 2.4512e-01, 5.0567e-01, 8.7240e-01,\n",
      "        7.2844e-01, 5.6316e-01, 5.7201e-01, 4.0728e-01, 6.6007e-01, 9.8726e-02,\n",
      "        3.2219e-01, 1.5198e-01, 3.1081e-02, 5.9530e-01])\n",
      "\n",
      "tensor([[1.0345e-01, 4.5794e-01, 6.9606e-04, 2.4512e-01],\n",
      "        [5.0567e-01, 8.7240e-01, 7.2844e-01, 5.6316e-01],\n",
      "        [5.7201e-01, 4.0728e-01, 6.6007e-01, 9.8726e-02],\n",
      "        [3.2219e-01, 1.5198e-01, 3.1081e-02, 5.9530e-01]])\n",
      "\n",
      "torch.Size([4, 4]) torch.Size([16]) torch.Size([4, 4])\n"
     ]
    }
   ],
   "execution_count": 44
  },
  {
   "metadata": {},
   "cell_type": "markdown",
   "source": "# ---- NumPy----\n",
   "id": "c94db48d0b040a97"
  },
  {
   "metadata": {
    "ExecuteTime": {
     "end_time": "2025-04-26T06:34:05.455434Z",
     "start_time": "2025-04-26T06:34:02.502168Z"
    }
   },
   "cell_type": "code",
   "source": [
    "import numpy\n",
    "import torch\n",
    "\n",
    "a = torch.ones(5)\n",
    "print(a)\n",
    "\n",
    "# torch to numpy with .numpy()\n",
    "b = a.numpy()\n",
    "print(f\"{b} {type(b)}\")"
   ],
   "id": "db8fd0716f566714",
   "outputs": [
    {
     "name": "stdout",
     "output_type": "stream",
     "text": [
      "tensor([1., 1., 1., 1., 1.])\n",
      "[1. 1. 1. 1. 1.] <class 'numpy.ndarray'>\n"
     ]
    }
   ],
   "execution_count": 2
  },
  {
   "metadata": {},
   "cell_type": "markdown",
   "source": [
    " If tensor is on the CPU (not on GPU)\n",
    " Both objects will share the same memory location, so changing one\n",
    " will also change the other"
   ],
   "id": "3f8423a27c6eecfe"
  },
  {
   "metadata": {
    "ExecuteTime": {
     "end_time": "2025-04-26T06:55:51.801430Z",
     "start_time": "2025-04-26T06:55:51.779412Z"
    }
   },
   "cell_type": "code",
   "source": [
    "a.add_(1)\n",
    "print(a)\n",
    "print(b)"
   ],
   "id": "bf816e5c836e840d",
   "outputs": [
    {
     "name": "stdout",
     "output_type": "stream",
     "text": [
      "tensor([2., 2., 2., 2., 2.])\n",
      "[2. 2. 2. 2. 2.]\n"
     ]
    }
   ],
   "execution_count": 3
  },
  {
   "metadata": {},
   "cell_type": "markdown",
   "source": "NumPy to torch with .from_numpy ; torch.tensor",
   "id": "3b4de6f4b86c4429"
  },
  {
   "metadata": {
    "ExecuteTime": {
     "end_time": "2025-04-26T06:58:58.515939Z",
     "start_time": "2025-04-26T06:58:58.503579Z"
    }
   },
   "cell_type": "code",
   "source": [
    "import numpy as np\n",
    "a = np.ones(5)\n",
    "b = torch.from_numpy(a)     # reference\n",
    "c = torch.tensor(a)         # copy of it\n",
    "\n",
    "print(a)\n",
    "print(b)\n",
    "print(c)\n",
    "\n",
    "a += 1                      #be cerful when modifying\n",
    "print(a)\n",
    "print(b)\n",
    "print(c)"
   ],
   "id": "9afeef7ac607a9b8",
   "outputs": [
    {
     "name": "stdout",
     "output_type": "stream",
     "text": [
      "[1. 1. 1. 1. 1.]\n",
      "tensor([1., 1., 1., 1., 1.], dtype=torch.float64)\n",
      "tensor([1., 1., 1., 1., 1.], dtype=torch.float64)\n",
      "[2. 2. 2. 2. 2.]\n",
      "tensor([2., 2., 2., 2., 2.], dtype=torch.float64)\n",
      "tensor([1., 1., 1., 1., 1.], dtype=torch.float64)\n"
     ]
    }
   ],
   "execution_count": 5
  },
  {
   "metadata": {},
   "cell_type": "markdown",
   "source": "# GPU Support",
   "id": "203230d2704748fd"
  },
  {
   "metadata": {
    "ExecuteTime": {
     "end_time": "2025-04-26T07:03:50.528077Z",
     "start_time": "2025-04-26T07:03:50.501679Z"
    }
   },
   "cell_type": "code",
   "source": [
    "device = torch.device('cuda' if torch.cuda.is_available() else 'cpu')\n",
    "# in case we have more than one cuda GPU we can use 'cuda:0' etc..\n",
    "\n",
    "x = torch.rand(2,2).to(device) # moves tensors to GPU device\n",
    "# x = x.to(\"cpu\")\n",
    "# x = x.to(\"cuda\")\n",
    "\n",
    "x = torch.rand(2,2, device=device)"
   ],
   "id": "a02d1ee8c8702e90",
   "outputs": [],
   "execution_count": 6
  },
  {
   "metadata": {},
   "cell_type": "markdown",
   "source": [
    "# Autograd\n",
    "requires_grad = True -> tracks all operations on the tensor"
   ],
   "id": "7091142b9fbd2149"
  },
  {
   "metadata": {
    "ExecuteTime": {
     "end_time": "2025-04-27T04:23:27.246003Z",
     "start_time": "2025-04-27T04:23:27.233632Z"
    }
   },
   "cell_type": "code",
   "source": [
    "import torch\n",
    "\n",
    "x = torch.randn(3, requires_grad=True)\n",
    "y = x + 2 # in case of you roperation the output grad_fn=<> will be changing\n",
    "\n",
    "print(y)\n",
    "print(y.grad_fn)"
   ],
   "id": "df6c71a016b05e16",
   "outputs": [
    {
     "name": "stdout",
     "output_type": "stream",
     "text": [
      "tensor([0.7821, 2.8537, 1.7990], grad_fn=<AddBackward0>)\n",
      "<AddBackward0 object at 0x0000020A61969690>\n"
     ]
    }
   ],
   "execution_count": 4
  },
  {
   "metadata": {},
   "cell_type": "markdown",
   "source": [
    "# Design Model\n",
    "The model has to implement __init__ and forward function"
   ],
   "id": "449565bcf2151829"
  },
  {
   "metadata": {},
   "cell_type": "code",
   "outputs": [],
   "execution_count": null,
   "source": "",
   "id": "6bb171f151c88c84"
  }
 ],
 "metadata": {
  "kernelspec": {
   "display_name": "Python 3",
   "language": "python",
   "name": "python3"
  },
  "language_info": {
   "codemirror_mode": {
    "name": "ipython",
    "version": 2
   },
   "file_extension": ".py",
   "mimetype": "text/x-python",
   "name": "python",
   "nbconvert_exporter": "python",
   "pygments_lexer": "ipython2",
   "version": "2.7.6"
  }
 },
 "nbformat": 4,
 "nbformat_minor": 5
}
