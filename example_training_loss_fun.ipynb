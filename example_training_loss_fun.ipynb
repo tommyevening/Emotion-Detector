{
 "cells": [
  {
   "cell_type": "code",
   "execution_count": null,
   "id": "initial_id",
   "metadata": {
    "collapsed": true
   },
   "outputs": [],
   "source": [
    ""
   ]
  },
  {
   "metadata": {},
   "cell_type": "code",
   "outputs": [],
   "execution_count": null,
   "source": [
    "import torch\n",
    "import torch.nn as nn\n",
    "import torch.optim as optim\n",
    "\n",
    "# Przykładowy model (najprostsza sieć)\n",
    "class SimpleModel(nn.Module):\n",
    "    def __init__(self):\n",
    "        super().__init__()\n",
    "        self.fc = nn.Linear(4, 2)  # wejście: 4 cechy, wyjście: 2 klasy\n",
    "\n",
    "    def forward(self, x):\n",
    "        return self.fc(x)\n",
    "\n",
    "# Przykładowe dane\n",
    "# 10 przykładów treningowych, każdy ma 4 cechy\n",
    "X_train = torch.randn(10, 4)\n",
    "y_train = torch.randint(0, 2, (10,))  # etykiety: 0 lub 1\n",
    "\n",
    "# 3 przykłady testowe\n",
    "X_test = torch.randn(3, 4)\n",
    "y_test = torch.randint(0, 2, (3,))\n",
    "\n",
    "model = SimpleModel()\n",
    "loss_fn = nn.CrossEntropyLoss()\n",
    "optimizer = optim.SGD(model.parameters(), lr=0.1)\n",
    "\n",
    "# --- TRENING ---\n",
    "model.train()  # tryb treningowy\n",
    "for epoch in range(5):\n",
    "    optimizer.zero_grad()                # Zeruj gradienty\n",
    "    outputs = model(X_train)             # Predykcja na danych treningowych\n",
    "    loss = loss_fn(outputs, y_train)     # Oblicz funkcję błędu\n",
    "    loss.backward()                      # Licz gradienty (TUTAJ!)\n",
    "    optimizer.step()                     # Aktualizuj wagi\n",
    "    print(f\"Epoch {epoch+1}, Loss: {loss.item():.4f}\")\n",
    "\n",
    "# --- TESTOWANIE ---\n",
    "model.eval()  # tryb ewaluacji (testowania)\n",
    "with torch.no_grad():  # NIE liczymy gradientów!\n",
    "    outputs = model(X_test)              # Predykcja na danych testowych\n",
    "    predicted = torch.argmax(outputs, dim=1)\n",
    "    accuracy = (predicted == y_test).float().mean()\n",
    "    print(f\"Test accuracy: {accuracy.item()*100:.2f}%\")"
   ],
   "id": "e4329593aaf01a1a"
  }
 ],
 "metadata": {
  "kernelspec": {
   "display_name": "Python 3",
   "language": "python",
   "name": "python3"
  },
  "language_info": {
   "codemirror_mode": {
    "name": "ipython",
    "version": 2
   },
   "file_extension": ".py",
   "mimetype": "text/x-python",
   "name": "python",
   "nbconvert_exporter": "python",
   "pygments_lexer": "ipython2",
   "version": "2.7.6"
  }
 },
 "nbformat": 4,
 "nbformat_minor": 5
}
